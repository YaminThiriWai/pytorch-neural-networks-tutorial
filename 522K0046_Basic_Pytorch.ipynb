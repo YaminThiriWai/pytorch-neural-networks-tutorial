{
  "nbformat": 4,
  "nbformat_minor": 0,
  "metadata": {
    "colab": {
      "provenance": []
    },
    "kernelspec": {
      "name": "python3",
      "display_name": "Python 3"
    },
    "language_info": {
      "name": "python"
    }
  },
  "cells": [
    {
      "cell_type": "markdown",
      "source": [
        "**What is PyTorch?**\n",
        "\n",
        "PyTorch is an open-source deep learning framework primarily developed by Facebook's AI Research lab (FAIR).\n",
        "\n",
        "It emphasizes dynamic computational graphs, which allows for more flexible and intuitive coding.\n",
        "\n",
        "**Why PyTorch?**\n",
        "\n",
        "**Pythonic:** This feature is a pro because a large portion of deep\n",
        "learning work is done in Python.\n",
        "\n",
        "**Easy to Learn:** It's one of the easiest deep learning packages to learn.\n",
        "\n",
        "**Easy to debug:** PyTorch is capable of utilizing Python's pdb and ipdb debugging tools.\n",
        "\n",
        "**Data parallelism:** PyTorch's data parallelism is extremely effective as it enables users to split data into batches and send them to various GPUs for processing. By employing this method, PyTorch is able to transfer a sizable portion of the workload from the CPU to the GPU.\n",
        "\n",
        "**Why not PyTorch?**\n",
        "\n",
        "**Limited Built-in Data Visualization:** PyTorch lacks built-in tools for data visualization like TensorBoard in TensorFlow. While data visualization is crucial for understanding and debugging machine learning models, PyTorch users may need to rely on third-party libraries or tools like Matplotlib, Seaborn, or TensorBoardX for visualizing their data and training process."
      ],
      "metadata": {
        "id": "2vrkSjSvDj2H"
      }
    },
    {
      "cell_type": "code",
      "source": [],
      "metadata": {
        "id": "kP66RIicJ4_W"
      },
      "execution_count": null,
      "outputs": []
    },
    {
      "cell_type": "markdown",
      "source": [
        "**What is TensorFlow?**\n",
        "\n",
        "TensorFlow is an open-source deep learning framework developed by Google Brain. It provides a more comprehensive ecosystem with tools like TensorBoard for visualization and TensorFlow Extended (TFX) for production deployment.\n",
        "\n",
        "**Why TensorFlow?**\n",
        "\n",
        "**Open-source:** TensorFlow is an open-source framework, which means it is free of cost and can be used by anyone.\n",
        "\n",
        "**Debugging:** TensorBoard provides the visualization and tooling needed for machine learning experimentation in deep learning, which makes it much easier to debug TensorFlow code.\n",
        "\n",
        "**Scalability:** TensorFlow is not limited to a single device.\n",
        "\n",
        "**Compatibility:** The framework is compatible with several programming languages.\n",
        "\n",
        "**Why not TensorFlow?**\n",
        "\n",
        "**Limited GPU support:** The framework only supports NVIDIA and Python for GPU programming.\n",
        "\n",
        "**Low implementation speed:** TensorFlow consistently requires the most time to train various kinds of neural networks compared to others."
      ],
      "metadata": {
        "id": "Qx3-_p4XF9C1"
      }
    },
    {
      "cell_type": "markdown",
      "source": [
        "**Basics of PyTorch**"
      ],
      "metadata": {
        "id": "bSN79OgyJ28G"
      }
    },
    {
      "cell_type": "markdown",
      "source": [
        "**1. Tensors**\n",
        "\n",
        "Tensors are the primary data structures in PyTorch."
      ],
      "metadata": {
        "id": "kCJEDcBhKUUV"
      }
    },
    {
      "cell_type": "code",
      "source": [
        "#Creating a Tensor with torch.tensor():\n",
        "import torch\n",
        "\n",
        "tensor1 = torch.tensor([1, 2, 3, 4, 5])\n",
        "print(\"Tensor created with torch.tensor():\", tensor1)\n",
        "\n",
        "import numpy as np\n",
        "numpy_array = np.array([[1, 2, 3], [4, 5, 6]])\n",
        "tensor2 = torch.tensor(numpy_array)\n",
        "print(\"Tensor created from a NumPy array:\", tensor2)\n"
      ],
      "metadata": {
        "colab": {
          "base_uri": "https://localhost:8080/"
        },
        "id": "ojudDlY8K5fz",
        "outputId": "84b600d6-f064-486f-8d1e-2a49a02070a5"
      },
      "execution_count": 2,
      "outputs": [
        {
          "output_type": "stream",
          "name": "stdout",
          "text": [
            "Tensor created with torch.tensor(): tensor([1, 2, 3, 4, 5])\n",
            "Tensor created from a NumPy array: tensor([[1, 2, 3],\n",
            "        [4, 5, 6]])\n"
          ]
        }
      ]
    },
    {
      "cell_type": "code",
      "source": [
        "#Creating a Tensor with torch.zeros():\n",
        "# Create a tensor filled with zeros of a specific shape\n",
        "zeros_tensor = torch.zeros(3, 2)\n",
        "print(\"Tensor filled with zeros:\", zeros_tensor)"
      ],
      "metadata": {
        "colab": {
          "base_uri": "https://localhost:8080/"
        },
        "id": "wJ-FdWRYLCRp",
        "outputId": "9348c610-5cf5-4140-bfc4-15651bfcd00c"
      },
      "execution_count": 3,
      "outputs": [
        {
          "output_type": "stream",
          "name": "stdout",
          "text": [
            "Tensor filled with zeros: tensor([[0., 0.],\n",
            "        [0., 0.],\n",
            "        [0., 0.]])\n"
          ]
        }
      ]
    },
    {
      "cell_type": "code",
      "source": [
        "#Creating a Tensor with torch.ones():\n",
        "# Create a tensor filled with ones of a specific shape\n",
        "ones_tensor = torch.ones(2, 3)  # 2 rows, 3 columns\n",
        "print(\"Tensor filled with ones:\", ones_tensor)"
      ],
      "metadata": {
        "colab": {
          "base_uri": "https://localhost:8080/"
        },
        "id": "1Ju6T4rxLK4Y",
        "outputId": "bec6489f-1bad-4bcc-d7e1-d894d1e63d3c"
      },
      "execution_count": 4,
      "outputs": [
        {
          "output_type": "stream",
          "name": "stdout",
          "text": [
            "Tensor filled with ones: tensor([[1., 1., 1.],\n",
            "        [1., 1., 1.]])\n"
          ]
        }
      ]
    },
    {
      "cell_type": "markdown",
      "source": [
        "**2. Operations:**\n",
        "\n",
        "PyTorch supports a wide range of mathematical operations that can be performed on tensors, including element-wise operations, matrix operations, and more complex operations like convolutions and activations."
      ],
      "metadata": {
        "id": "YuMNmEmqN0hY"
      }
    },
    {
      "cell_type": "markdown",
      "source": [
        "**3. Autograd**\n",
        "\n",
        "PyTorch provides automatic differentiation through its Autograd system. PyTorch automatically tracks the operations and computes gradients with respect to input tensors. This allows for easy implementation of gradient-based optimization algorithms like stochastic gradient descent (SGD)."
      ],
      "metadata": {
        "id": "GrxqJe03LkvM"
      }
    },
    {
      "cell_type": "code",
      "source": [
        "CLASStorch.optim.SGD(params, lr=0.001, momentum=0, dampening=0, weight_decay=0,\n",
        "                     nesterov=False, *, maximize=False, foreach=None, differentiable=False)"
      ],
      "metadata": {
        "id": "r4-5OTNYNrHn"
      },
      "execution_count": null,
      "outputs": []
    },
    {
      "cell_type": "markdown",
      "source": [
        "**4. Neural Networks**\n",
        "\n",
        "PyTorch provides a torch.nn module for building neural networks.This module also provides various predefined layers (e.g., linear layers, convolutional layers, activation functions)."
      ],
      "metadata": {
        "id": "mE_IkC0kN6T9"
      }
    },
    {
      "cell_type": "code",
      "source": [
        "#Base class for all neural network modules.\n",
        "import torch.nn as nn\n",
        "import torch.nn.functional as F\n",
        "\n",
        "class Model(nn.Module):\n",
        "    def __init__(self):\n",
        "        super().__init__()\n",
        "        self.conv1 = nn.Conv2d(1, 20, 5)\n",
        "        self.conv2 = nn.Conv2d(20, 20, 5)\n",
        "\n",
        "    def forward(self, x):\n",
        "        x = F.relu(self.conv1(x))\n",
        "        return F.relu(self.conv2(x))"
      ],
      "metadata": {
        "id": "Ml8dUZerNFHe"
      },
      "execution_count": null,
      "outputs": []
    },
    {
      "cell_type": "markdown",
      "source": [
        "**5. Optimizers:**\n",
        "\n",
        "PyTorch includes various optimization algorithms in the torch.optim module. A range of optimizers such as SGD, Adam, RMSprop, etc., to train neural networks."
      ],
      "metadata": {
        "id": "0Jm2a7coOqVg"
      }
    },
    {
      "cell_type": "code",
      "source": [
        "import torch.optim as optim\n",
        "optimizer = optim.SGD(model.parameters(), lr=0.01, momentum=0.9)\n",
        "optimizer = optim.Adam([var1, var2], lr=0.0001)\n",
        "optimizer = optim.RMSprop(model.parameters(), lr=0.001, alpha=0.9)\n"
      ],
      "metadata": {
        "id": "zf4Ug9vYO6M8"
      },
      "execution_count": null,
      "outputs": []
    },
    {
      "cell_type": "markdown",
      "source": [
        "**6. Data Loading:**\n",
        "\n",
        "PyTorch provides utilities for loading and preprocessing data using the torch.utils.data module."
      ],
      "metadata": {
        "id": "WkfqBjzkPolD"
      }
    },
    {
      "cell_type": "code",
      "source": [
        "from torch.utils.data import DataLoader\n",
        "\n",
        "# Assuming 'dataset' is defined somewhere\n",
        "batch_size = 10\n",
        "dataloader = DataLoader(dataset, batch_size=batch_size, shuffle=True)"
      ],
      "metadata": {
        "id": "8XkCRnVSQ1It"
      },
      "execution_count": null,
      "outputs": []
    },
    {
      "cell_type": "markdown",
      "source": [
        "**'torch.nn'** module that is commonly used for building neural network"
      ],
      "metadata": {
        "id": "HRGqUtjUmUwy"
      }
    },
    {
      "cell_type": "code",
      "source": [
        "import torch.nn as nn"
      ],
      "metadata": {
        "id": "zVvkAY-Vm_hP"
      },
      "execution_count": null,
      "outputs": []
    },
    {
      "cell_type": "markdown",
      "source": [
        "**Linear:** This class represents a fully connected (dense) layer in a neural network. It performs a linear transformation on the input data."
      ],
      "metadata": {
        "id": "Nnmf5lJEmxYS"
      }
    },
    {
      "cell_type": "code",
      "source": [
        "linear_layer = nn.Linear(in_features, out_features)"
      ],
      "metadata": {
        "id": "POnsALKrnDe7"
      },
      "execution_count": null,
      "outputs": []
    },
    {
      "cell_type": "markdown",
      "source": [
        "**Conv2d:** This class represents a 2D convolutional layer. It applies a 2D convolution operation over an input signal."
      ],
      "metadata": {
        "id": "aOcn1YOQnMm-"
      }
    },
    {
      "cell_type": "code",
      "source": [
        "conv_layer = nn.Conv2d(in_channels, out_channels, kernel_size, stride, padding)"
      ],
      "metadata": {
        "id": "OCvGPBzhnOxj"
      },
      "execution_count": null,
      "outputs": []
    },
    {
      "cell_type": "markdown",
      "source": [
        "**BatchNorm2d:** This class represents a batch normalization layer for 2D inputs. It normalizes the input over the batch dimension."
      ],
      "metadata": {
        "id": "AACP9ZZMnRwL"
      }
    },
    {
      "cell_type": "code",
      "source": [
        "batch_norm_layer = nn.BatchNorm2d(num_features)"
      ],
      "metadata": {
        "id": "HmAbE0HmnW9w"
      },
      "execution_count": null,
      "outputs": []
    },
    {
      "cell_type": "markdown",
      "source": [
        "**ReLU:** This class represents the Rectified Linear Unit (ReLU) activation function. It introduces non-linearity to the neural network by setting negative values to zero.\n"
      ],
      "metadata": {
        "id": "LVEEZy_2nXyO"
      }
    },
    {
      "cell_type": "code",
      "source": [
        "relu_activation = nn.ReLU()"
      ],
      "metadata": {
        "id": "FQKJejHWncSX"
      },
      "execution_count": null,
      "outputs": []
    },
    {
      "cell_type": "markdown",
      "source": [
        "**Sigmoid:** This class represents the Sigmoid activation function. It squashes the output to a range between 0 and 1, typically used for binary classification tasks."
      ],
      "metadata": {
        "id": "mjuBoJsZniB0"
      }
    },
    {
      "cell_type": "code",
      "source": [
        "sigmoid_activation = nn.Sigmoid()"
      ],
      "metadata": {
        "id": "DVb1z_bRnjbJ"
      },
      "execution_count": null,
      "outputs": []
    },
    {
      "cell_type": "markdown",
      "source": [
        "**Softmax:** This class represents the Softmax activation function. It normalizes the output into a probability distribution over multiple classes."
      ],
      "metadata": {
        "id": "w2zcOQ77nmU1"
      }
    },
    {
      "cell_type": "code",
      "source": [
        "softmax_activation = nn.Softmax(dim=1)"
      ],
      "metadata": {
        "id": "ze-9rnLBnu7V"
      },
      "execution_count": null,
      "outputs": []
    },
    {
      "cell_type": "markdown",
      "source": [
        "**Dropout:** The Dropout regularization technique, which randomly zeros some elements of the input tensor during training to prevent overfitting."
      ],
      "metadata": {
        "id": "m96vI8xMn_eM"
      }
    },
    {
      "cell_type": "code",
      "source": [
        "dropout_layer = nn.Dropout(p=0.5)\n"
      ],
      "metadata": {
        "id": "mlRh9GzQoDax"
      },
      "execution_count": null,
      "outputs": []
    },
    {
      "cell_type": "markdown",
      "source": [
        "**CrossEntropyLoss:** The Cross Entropy loss function, which computes the cross-entropy loss between predicted and target labels."
      ],
      "metadata": {
        "id": "DvLSdr79oEQq"
      }
    },
    {
      "cell_type": "code",
      "source": [
        "loss_function = nn.CrossEntropyLoss()\n"
      ],
      "metadata": {
        "id": "KaoLo3u6oI0n"
      },
      "execution_count": null,
      "outputs": []
    }
  ]
}